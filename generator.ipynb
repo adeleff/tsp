{
 "cells": [
  {
   "cell_type": "code",
   "execution_count": 268,
   "metadata": {},
   "outputs": [],
   "source": [
    "from random import randint\n",
    "import pandas as pd\n",
    "\n",
    "\n",
    "def make_sample(size: int) -> list:\n",
    "    x, y = randint(0, 100), randint(0, 100)\n",
    "    start_point = (x, y, 'none')\n",
    "    cities = [start_point]\n",
    "    n = 1\n",
    "    step = max(1, size//10)\n",
    "    while n < size:\n",
    "        i = -1\n",
    "        cities = list(set(cities))\n",
    "        n = len(cities)\n",
    "        add_city = cities.append\n",
    "        for _ in range(step):\n",
    "            try:\n",
    "                n = add_points(add_city, cities[i], n, size)\n",
    "                i = randint(max(1, i + 1), len(cities))\n",
    "            except IndexError:\n",
    "                break\n",
    "    return list(set(cities))\n",
    "\n",
    "\n",
    "def add_points(add_city: callable,\n",
    "               point: tuple,\n",
    "               n: int,\n",
    "               size: int) -> int:\n",
    "    x, y, previous_position = point\n",
    "    u, d, r = [randint(0, 1) for _ in range(3)]\n",
    "    if u and n <= size and previous_position != 'down':\n",
    "        add_city((x, y + 1, 'up'))\n",
    "        n += 1\n",
    "    if d and n <= size and previous_position != 'up':\n",
    "        add_city((x, y - 1, 'down'))\n",
    "        n += 1\n",
    "    if r and n <= size:\n",
    "        add_city((x + 1, y, 'left'))\n",
    "        n += 1\n",
    "    return n\n",
    "\n",
    "\n",
    "def find_edges(cities: pd.DataFrame):\n",
    "    cities = cities.copy()\n",
    "    edges = []\n",
    "    for x, y, name, _ in cities.values:\n",
    "        q = f\"(x=={x + 1} & y=={y}) | (x=={x - 1} & y=={y}) | (x=={x} & y=={y + 1}) | (x=={x} & y=={y - 1})\"\n",
    "        neighbours = cities.query(q)\n",
    "        for n_name in neighbours.name:\n",
    "            edges.append((name, n_name, randint(1, 24)))\n",
    "\n",
    "    return edges\n",
    "\n",
    "\n",
    "def generate_csv(size: int, max_q: int = 100, filename: str = 'sample') -> tuple:\n",
    "    points = make_sample(size)\n",
    "\n",
    "    df_cities = pd.DataFrame(points, columns=['x', 'y', 'position'])\n",
    "    df_cities = df_cities.drop('position', axis=1)\n",
    "    df_cities['name'] = [f'city_{i}' for i in range(df_cities.shape[0])]\n",
    "    df_cities['quantity'] = [randint(0, max_q) for _ in range(df_cities.shape[0])]\n",
    "\n",
    "    df_edges = pd.DataFrame(find_edges(df_cities), columns=['city_from', 'city_to', 'time'])\n",
    "    df_cities.to_csv(f'{filename}_cities.csv', index=False)\n",
    "    df_edges.to_csv(f'{filename}_paths.csv', index=False)\n",
    "\n",
    "    return df_cities, df_edges\n",
    "\n",
    "\n",
    "def validate_input(cities: pd.DataFrame, paths: pd.DataFrame) -> tuple:\n",
    "    unique_cities = cities.name.unique().tolist()\n",
    "    unique_cities.sort()\n",
    "\n",
    "    unique_paths = paths.city_from.unique().tolist() + paths.city_to.unique().tolist()\n",
    "    unique_paths = list(set(unique_paths))\n",
    "    unique_paths.sort()\n",
    "\n",
    "    if len(unique_cities) != len(unique_paths):\n",
    "        return False, f'{len(unique_cities)} != {len(unique_paths)}'\n",
    "\n",
    "    if unique_cities != unique_paths:\n",
    "        return False, 'Some elements differs'\n",
    "\n",
    "    return True, 'Success'\n",
    "\n"
   ]
  },
  {
   "cell_type": "code",
   "execution_count": 16,
   "metadata": {},
   "outputs": [],
   "source": [
    "import matplotlib.pyplot as plt"
   ]
  },
  {
   "cell_type": "code",
   "execution_count": 269,
   "metadata": {},
   "outputs": [
    {
     "data": {
      "image/png": "[encoded data removed]",
      "text/plain": [
       "<Figure size 432x288 with 1 Axes>"
      ]
     },
     "metadata": {
      "needs_background": "light"
     },
     "output_type": "display_data"
    }
   ],
   "source": [
    "for x, y, _ in make_sample(250):\n",
    "    plt.scatter(x, y)"
   ]
  },
  {
   "cell_type": "code",
   "execution_count": 238,
   "metadata": {},
   "outputs": [
    {
     "data": {
      "text/plain": [
       "True"
      ]
     },
     "execution_count": 238,
     "metadata": {},
     "output_type": "execute_result"
    }
   ],
   "source": [
    "df_cities, df_edges = generate_csv(50)\n",
    "validate_input(df_cities, df_edges)"
   ]
  },
  {
   "cell_type": "code",
   "execution_count": 161,
   "metadata": {},
   "outputs": [
    {
     "data": {
      "text/plain": [
       "False"
      ]
     },
     "execution_count": 161,
     "metadata": {},
     "output_type": "execute_result"
    }
   ],
   "source": [
    "[1,2,3] == [1,2,4]"
   ]
  },
  {
   "cell_type": "code",
   "execution_count": 217,
   "metadata": {},
   "outputs": [
    {
     "data": {
      "text/plain": [
       "(     x   y     name  quantity\n",
       " 0   62  50   city_0        27\n",
       " 1   63  43   city_1        78\n",
       " 2   63  48   city_2        91\n",
       " 3   62  49   city_3        66\n",
       " 4   62  45   city_4         8\n",
       " 5   62  46   city_5        61\n",
       " 6   64  43   city_6        38\n",
       " 7   62  45   city_7        48\n",
       " 8   62  47   city_8        77\n",
       " 9   61  46   city_9        14\n",
       " 10  61  43  city_10        69\n",
       " 11  64  45  city_11         3\n",
       " 12  64  47  city_12        57\n",
       " 13  63  44  city_13        37\n",
       " 14  60  46  city_14        94\n",
       " 15  63  45  city_15        21\n",
       " 16  61  44  city_16        94\n",
       " 17  64  46  city_17        24\n",
       " 18  63  44  city_18        13\n",
       " 19  63  47  city_19        94\n",
       " 20  61  47  city_20        85\n",
       " 21  60  45  city_21        43\n",
       " 22  62  47  city_22        58\n",
       " 23  62  45  city_23        36\n",
       " 24  59  46  city_24        53\n",
       " 25  61  46  city_25        60\n",
       " 26  62  46  city_26        37\n",
       " 27  64  45  city_27        31\n",
       " 28  64  44  city_28        52\n",
       " 29  62  51  city_29        48\n",
       " 30  65  44  city_30        88\n",
       " 31  62  44  city_31        79\n",
       " 32  61  45  city_32         7\n",
       " 33  63  46  city_33        57\n",
       " 34  63  45  city_34        16\n",
       " 35  63  46  city_35        34\n",
       " 36  62  48  city_36        47\n",
       " 37  62  46  city_37        96\n",
       " 38  63  50  city_38         9,     city_from  city_to  time\n",
       " 0      city_0   city_3    13\n",
       " 1      city_0  city_29    17\n",
       " 2      city_0  city_38     6\n",
       " 3      city_1   city_6    15\n",
       " 4      city_1  city_13     2\n",
       " 5      city_1  city_18    13\n",
       " 6      city_2  city_19    23\n",
       " 7      city_2  city_36     7\n",
       " 8      city_3   city_0     6\n",
       " 9      city_3  city_36    20\n",
       " 10     city_4   city_5     7\n",
       " 11     city_4  city_15     4\n",
       " 12     city_4  city_26    19\n",
       " 13     city_4  city_31    15\n",
       " 14     city_4  city_32    16\n",
       " 15     city_4  city_34    16\n",
       " 16     city_4  city_37    16\n",
       " 17     city_5   city_4    23\n",
       " 18     city_5   city_7     7\n",
       " 19     city_5   city_8    23\n",
       " 20     city_5   city_9     2\n",
       " 21     city_5  city_22     8\n",
       " 22     city_5  city_23    14\n",
       " 23     city_5  city_25    13\n",
       " 24     city_5  city_33    15\n",
       " 25     city_5  city_35     5\n",
       " 26     city_6   city_1     9\n",
       " 27     city_6  city_28    22\n",
       " 28     city_7   city_5    16\n",
       " 29     city_7  city_15    14\n",
       " ..        ...      ...   ...\n",
       " 158   city_34   city_4    23\n",
       " 159   city_34   city_7    21\n",
       " 160   city_34  city_11     7\n",
       " 161   city_34  city_13    20\n",
       " 162   city_34  city_18    22\n",
       " 163   city_34  city_23    12\n",
       " 164   city_34  city_27    20\n",
       " 165   city_34  city_33     3\n",
       " 166   city_34  city_35    10\n",
       " 167   city_35   city_5    20\n",
       " 168   city_35  city_15    18\n",
       " 169   city_35  city_17    22\n",
       " 170   city_35  city_19    22\n",
       " 171   city_35  city_26     8\n",
       " 172   city_35  city_34    22\n",
       " 173   city_35  city_37     5\n",
       " 174   city_36   city_2    23\n",
       " 175   city_36   city_3     5\n",
       " 176   city_36   city_8    10\n",
       " 177   city_36  city_22    16\n",
       " 178   city_37   city_4    17\n",
       " 179   city_37   city_7    24\n",
       " 180   city_37   city_8     6\n",
       " 181   city_37   city_9     6\n",
       " 182   city_37  city_22    12\n",
       " 183   city_37  city_23    11\n",
       " 184   city_37  city_25     4\n",
       " 185   city_37  city_33    15\n",
       " 186   city_37  city_35    18\n",
       " 187   city_38   city_0    12\n",
       " \n",
       " [188 rows x 3 columns])"
      ]
     },
     "execution_count": 217,
     "metadata": {},
     "output_type": "execute_result"
    }
   ],
   "source": [
    "generate_csv(50)"
   ]
  },
  {
   "cell_type": "code",
   "execution_count": null,
   "metadata": {},
   "outputs": [],
   "source": []
  }
 ],
 "metadata": {
  "kernelspec": {
   "display_name": "Python 3",
   "language": "python",
   "name": "python3"
  },
  "language_info": {
   "codemirror_mode": {
    "name": "ipython",
    "version": 3
   },
   "file_extension": ".py",
   "mimetype": "text/x-python",
   "name": "python",
   "nbconvert_exporter": "python",
   "pygments_lexer": "ipython3",
   "version": "3.7.3"
  }
 },
 "nbformat": 4,
 "nbformat_minor": 2
}
